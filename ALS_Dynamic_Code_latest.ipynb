{
 "cells": [
  {
   "cell_type": "markdown",
   "id": "dad1cd12-8d05-4965-9c47-d412cb34fd56",
   "metadata": {
    "jp-MarkdownHeadingCollapsed": true
   },
   "source": [
    "# How to download necessary libraries (Only run once per device)"
   ]
  },
  {
   "cell_type": "code",
   "execution_count": null,
   "id": "213b31dd-5380-4f21-958b-ba392598d7f0",
   "metadata": {},
   "outputs": [],
   "source": [
    "pip install pyreadstat\n",
    "pip install pandas\n",
    "pip install matplotlib\n",
    "pip intall pyforest"
   ]
  },
  {
   "cell_type": "markdown",
   "id": "1ed7f434-0850-464a-bc87-76ee06ab9eb3",
   "metadata": {},
   "source": [
    "# Importing Libraries and Defining Functions"
   ]
  },
  {
   "cell_type": "code",
   "execution_count": null,
   "id": "a57b8647-58b7-40d7-bb36-aff4684015a3",
   "metadata": {},
   "outputs": [],
   "source": [
    "#Final_loading_code\n",
    "import os\n",
    "import pandas as pd\n",
    "import pyreadstat\n",
    "import warnings\n",
    "warnings.filterwarnings('ignore')\n",
    "\n",
    "def load_files(file_paths, sheet_indices=None, sheet_name=None, return_meta=False):\n",
    "    \"\"\"\n",
    "    Smart loader that handles multiple files and multiple sheets inside Excel files.\n",
    "    \n",
    "    Parameters:\n",
    "    - file_paths (str or list): Single file path or list of file paths.\n",
    "    - sheet_indices (list of int, optional): For Excel files, indices of sheets to load separately.\n",
    "    - sheet_name (str/int, optional): Specific sheet to load from Excel (if only one).\n",
    "    - return_meta (bool): Return (DataFrame, metadata) tuple for .sav files if True.\n",
    "\n",
    "    Returns:\n",
    "    - list: List of DataFrames or list of (DataFrame, metadata) tuples.\n",
    "    \"\"\"\n",
    "    \n",
    "    if isinstance(file_paths, str):\n",
    "        file_paths = [file_paths]  # make it a list for consistency\n",
    "    \n",
    "    loaded_data = []\n",
    "    \n",
    "    for file_path in file_paths:\n",
    "        if not os.path.exists(file_path):\n",
    "            print(f\"Error: File not found -> {file_path}\")\n",
    "            loaded_data.append((None, None) if return_meta else None)\n",
    "            continue\n",
    "\n",
    "        file_extension = os.path.splitext(file_path)[-1].lower()\n",
    "        \n",
    "        try:\n",
    "            if file_extension == \".sav\":\n",
    "                df, meta = pyreadstat.read_sav(file_path)\n",
    "                print(f\"Loaded SPSS file: {file_path}\")\n",
    "                loaded_data.append((df, meta) if return_meta else df)\n",
    "            \n",
    "            elif file_extension == \".csv\":\n",
    "                df = pd.read_csv(file_path)\n",
    "                print(f\"Loaded CSV file: {file_path}\")\n",
    "                loaded_data.append((df, None) if return_meta else df)\n",
    "            \n",
    "            elif file_extension in [\".xls\", \".xlsx\"]:\n",
    "                excel_file = pd.ExcelFile(file_path)\n",
    "                sheet_names = excel_file.sheet_names\n",
    "                \n",
    "                if sheet_indices is not None:\n",
    "                    for idx in sheet_indices:\n",
    "                        if idx < len(sheet_names):\n",
    "                            df = excel_file.parse(sheet_name=sheet_names[idx])\n",
    "                            print(f\"Loaded sheet '{sheet_names[idx]}' from {file_path}\")\n",
    "                            loaded_data.append((df, None) if return_meta else df)\n",
    "                        else:\n",
    "                            print(f\"Warning: Sheet index {idx} out of range in {file_path}\")\n",
    "                            loaded_data.append((None, None) if return_meta else None)\n",
    "\n",
    "                elif sheet_name is not None:\n",
    "                    df = pd.read_excel(file_path, sheet_name=sheet_name)\n",
    "                    print(f\"Loaded sheet '{sheet_name}' from {file_path}\")\n",
    "                    loaded_data.append((df, None) if return_meta else df)\n",
    "\n",
    "                else:\n",
    "                    df = pd.read_excel(file_path, sheet_name=None)\n",
    "                    print(f\"Loaded all sheets from {file_path}\")\n",
    "                    loaded_data.append((df, None) if return_meta else df)\n",
    "\n",
    "            else:\n",
    "                print(f\"Unsupported file type: {file_extension}\")\n",
    "                loaded_data.append((None, None) if return_meta else None)\n",
    "        \n",
    "        except Exception as e:\n",
    "            print(f\"Error loading {file_path}: {e}\")\n",
    "            loaded_data.append((None, None) if return_meta else None)\n",
    "    \n",
    "    return loaded_data\n"
   ]
  },
  {
   "cell_type": "code",
   "execution_count": null,
   "id": "1e18c79d-8b76-464b-88a5-7355b01f8051",
   "metadata": {},
   "outputs": [],
   "source": [
    "file_list_1 = [\"ALS_Young_2017-18.sav\",\n",
    "             \"ALS_Young_2018-19.sav\",\n",
    "             \"ALS_Young_2019-20.sav\",\n",
    "]\n",
    "\n",
    "file_list_2=[\"ALS_Young_2020-21.sav\",\n",
    "             \"ALS_Young_2021-22.sav\",\n",
    "             \"ALS_Youn_202223.sav\"]"
   ]
  },
  {
   "cell_type": "code",
   "execution_count": null,
   "id": "26ebc09c-62ab-4526-a807-c1e682a4d8f3",
   "metadata": {},
   "outputs": [],
   "source": [
    "adf1, adf2, adf3= load_files(file_list_1)"
   ]
  },
  {
   "cell_type": "code",
   "execution_count": null,
   "id": "7ca91056-2816-41b0-aa31-f2403218bd1f",
   "metadata": {},
   "outputs": [],
   "source": [
    "adf4, adf5, adf6= load_files(file_list_2)"
   ]
  },
  {
   "cell_type": "code",
   "execution_count": null,
   "id": "095bf2b3-a5b5-4b9a-8912-9acb6bbc702c",
   "metadata": {},
   "outputs": [],
   "source": [
    "adf6"
   ]
  },
  {
   "cell_type": "markdown",
   "id": "cd817666-7159-444f-93ad-31e261cfabc0",
   "metadata": {},
   "source": [
    "# Basic Pandas Methods"
   ]
  },
  {
   "cell_type": "markdown",
   "id": "9cfba0d3-7123-48c0-a8eb-49c90d5d0e86",
   "metadata": {},
   "source": [
    "| **No.** | **Command** | **Description** |\n",
    "|:-------:|:------------|:----------------|\n",
    "| 1 | `dataset.head(10)` | Returns the first 10 entries of the dataset. |\n",
    "| 2 | `dataset.tail(10)` | Returns the last 10 entries of the dataset. |\n",
    "| 3 | `dataset.columns` | Lists all the column names in the dataset as a list. |\n",
    "| 4 | `dataset['categorical_column'].value_counts()` | Returns the count of each unique category in the specified column. |\n",
    "| 5 | `dataset['categorical_column'].nunique()` | Returns the number of unique categories in the specified column. |\n",
    "| 6 | `dataset.to_csv(\"desired_csv_name.csv\")` | Saves the dataset to a CSV file. |\n"
   ]
  },
  {
   "cell_type": "code",
   "execution_count": null,
   "id": "c8eea71d-3479-4663-b05d-8dcd00f80af2",
   "metadata": {},
   "outputs": [],
   "source": [
    "adf1.head(10)"
   ]
  },
  {
   "cell_type": "code",
   "execution_count": null,
   "id": "0921fef2-5d39-4495-9d74-64b25d9dd8fe",
   "metadata": {},
   "outputs": [],
   "source": [
    "adf2.tail(10)"
   ]
  },
  {
   "cell_type": "code",
   "execution_count": null,
   "id": "4328e4f8-1770-4390-8a58-67d335e72218",
   "metadata": {},
   "outputs": [],
   "source": [
    "adf1.columns"
   ]
  },
  {
   "cell_type": "code",
   "execution_count": null,
   "id": "29a6d8b6-f6f6-4b6b-b456-23955a636fd1",
   "metadata": {},
   "outputs": [],
   "source": [
    "adf1['CSP_name'].value_counts()"
   ]
  },
  {
   "cell_type": "code",
   "execution_count": null,
   "id": "b50b49c1-c4e1-45a2-a007-20d98dff9ae9",
   "metadata": {},
   "outputs": [],
   "source": [
    "adf1['CSP_name'].nunique()"
   ]
  },
  {
   "cell_type": "markdown",
   "id": "73e72b2e-62e1-4633-b3f0-a4bf46383dfd",
   "metadata": {},
   "source": [
    "# Function 2: find_columns()"
   ]
  },
  {
   "cell_type": "markdown",
   "id": "371a4586-3d78-408a-a318-43c11be0e5c1",
   "metadata": {},
   "source": [
    "## Implementing function 2"
   ]
  },
  {
   "cell_type": "code",
   "execution_count": null,
   "id": "057b923b-3a96-4304-bb10-e3cd64211604",
   "metadata": {},
   "outputs": [],
   "source": [
    "def find_columns(df, pattern):\n",
    "    return df.columns[df.columns.to_series().str.contains(pattern, case=False, regex=True)].tolist()\n"
   ]
  },
  {
   "cell_type": "code",
   "execution_count": null,
   "id": "2ec98c09-3284-4a80-bfe9-742ff2011430",
   "metadata": {},
   "outputs": [],
   "source": [
    "gender_pattern=r\"gend\"      # For identifying gender related variables\n",
    "sport_pattern = r\"rugby\"    # For identifying variables which belong to a particular sport\n",
    "age_pattern = r\"age\"        # For identifying age related variables\n",
    "location_pattern = r\"county|region|state|district|area|location|csp|la_\"  # For region/county related variables.\n",
    "                                                                          #In ALS Adults data \"csp\" and \"la\" denote the region."
   ]
  },
  {
   "cell_type": "code",
   "execution_count": null,
   "id": "ef0a93b2-0a0e-47fc-b8ef-86e33a453575",
   "metadata": {},
   "outputs": [],
   "source": [
    "als_df_1=[adf1,adf2,adf3]\n",
    "als_df_2=[adf4, adf5, adf6]\n",
    "\n",
    "als_years_1 = ['2017-18', '2018-19', '2019-20']\n",
    "als_years_2 = ['2020-21', '2021-22', '2022-23'] "
   ]
  },
  {
   "cell_type": "code",
   "execution_count": null,
   "id": "9edcf020-130d-426b-84aa-17b3cc88ea0d",
   "metadata": {
    "scrolled": true
   },
   "outputs": [],
   "source": [
    "for df, year in zip(als_df_1, als_years_1):\n",
    "    relevant_sport_columns = find_columns(df, sport_pattern)\n",
    "    relevant_age_columns = find_columns(df, age_pattern)\n",
    "    relevant_location_columns = find_columns(df, location_pattern)\n",
    "    relevant_gender_columns = find_columns(df, gender_pattern)\n",
    "    \n",
    "    print(f\"ALS_Data for {year}:\")\n",
    "    print(\"Sport Columns:\", relevant_sport_columns)\n",
    "    print(\"\\n Age Columns:\", relevant_age_columns)\n",
    "    print(\"\\n Location Columns:\", relevant_location_columns)\n",
    "    print(\"\\n Gender Columns:\", relevant_gender_columns)\n",
    "    print(\"-\" * 40)"
   ]
  },
  {
   "cell_type": "code",
   "execution_count": null,
   "id": "df4d88b6-62f3-4840-9894-5a728677a18f",
   "metadata": {},
   "outputs": [],
   "source": [
    "for df, year in zip(als_df_2, als_years_2):\n",
    "    relevant_sport_columns = find_columns(df, sport_pattern)\n",
    "    relevant_age_columns = find_columns(df, age_pattern)\n",
    "    relevant_location_columns = find_columns(df, location_pattern)\n",
    "    relevant_gender_columns = find_columns(df, gender_pattern)\n",
    "    \n",
    "    print(f\"ALS_Data for {year}:\")\n",
    "    print(\"Sport Columns:\", relevant_sport_columns)\n",
    "    print(\"\\n Age Columns:\", relevant_age_columns)\n",
    "    print(\"\\n Location Columns:\", relevant_location_columns)\n",
    "    print(\"\\n Gender Columns:\", relevant_gender_columns)\n",
    "    print(\"-\" * 40)"
   ]
  },
  {
   "cell_type": "markdown",
   "id": "6f28d613-7c30-4104-9785-59094574079b",
   "metadata": {},
   "source": [
    "### User Input"
   ]
  },
  {
   "cell_type": "code",
   "execution_count": null,
   "id": "5c81211a-843e-4cdd-a295-a7ffc33bc691",
   "metadata": {},
   "outputs": [],
   "source": [
    "# generic_columns=[\"Respondent_Serial\",\"wt_gross\"]\n",
    "# gender_column='gend3'\n",
    "# sport_column = \"onceawk_modplus_everywhere_GR_RUGBY_CC018\"\n",
    "# age_column = \"age_11\"\n",
    "\n",
    "# location_columns_1718 = [\"Region_name\",\"CSP_name\"]\n",
    "# location_columns_1819 = [\"Region_name\",\"CSP_name\"]\n",
    "# location_columns_1920 = [\"Region_name\",\"CSP_name2019\"]"
   ]
  },
  {
   "cell_type": "code",
   "execution_count": null,
   "id": "7b2b0789-0c87-44f7-ac4b-54179eefc75a",
   "metadata": {},
   "outputs": [],
   "source": [
    "generic_columns=[\"Respondent_Serial\",\"wt_gross\"]\n",
    "gender_column='gend3'\n",
    "sport_column = \"onceawk_modplus_everywhere_GR_RUGBY_CC018\"\n",
    "age_column = \"age_11\"\n",
    "\n",
    "location_columns_2021 = [\"Region_name\",\"CSP_name2020\"]\n",
    "location_columns_2122 = [\"Region_name\",\"CSP_name2020\"]\n",
    "location_columns_2223 = [\"Region_name\",\"CSP_name2019\"]"
   ]
  },
  {
   "cell_type": "markdown",
   "id": "50c1b443-3eac-40fd-9b15-b3bf54d6fb51",
   "metadata": {},
   "source": [
    "# Function 3: filter_desired_column()"
   ]
  },
  {
   "cell_type": "code",
   "execution_count": null,
   "id": "497a42c1-912c-445c-b87c-9c5ce50c185e",
   "metadata": {},
   "outputs": [],
   "source": [
    "def filter_desired_columns(data, *columns):\n",
    "    selected_columns = []\n",
    "\n",
    "    for col in columns:\n",
    "        if isinstance(col, list):  # If col is a list, add all items to selected_columns\n",
    "            selected_columns.extend(col)\n",
    "        else:  # If col is a single column name, add it directly\n",
    "            selected_columns.append(col)\n",
    "    \n",
    "    try:\n",
    "        return data[selected_columns]  # Filter DataFrame with selected columns\n",
    "    except KeyError as e:\n",
    "        print(f\"Error: Some columns not found in DataFrame - {e}\")\n",
    "        return None "
   ]
  },
  {
   "cell_type": "markdown",
   "id": "c41f4ccb-48e6-4c04-960a-82bf8d674b64",
   "metadata": {},
   "source": [
    "## Implementing Function 3"
   ]
  },
  {
   "cell_type": "code",
   "execution_count": null,
   "id": "6c499bec-1fc0-4039-b33d-9a48f932a90d",
   "metadata": {},
   "outputs": [],
   "source": [
    "# filtered_df_1718=filter_desired_columns(adf1, \n",
    "#                                         generic_columns,\n",
    "#                                         sport_column, \n",
    "#                                         age_column, \n",
    "#                                         gender_column,\n",
    "#                                         location_columns_1718)\n",
    "\n",
    "# filtered_df_1819=filter_desired_columns(adf2,\n",
    "#                                         generic_columns, \n",
    "#                                         sport_column, \n",
    "#                                         age_column, \n",
    "#                                         gender_column, \n",
    "#                                         location_columns_1819)\n",
    "\n",
    "# filtered_df_1920=filter_desired_columns(adf3,\n",
    "#                                         generic_columns, \n",
    "#                                         sport_column,\n",
    "#                                         age_column, \n",
    "#                                         gender_column, \n",
    "#                                         location_columns_1920)"
   ]
  },
  {
   "cell_type": "code",
   "execution_count": null,
   "id": "1ad08ce2-d170-4b37-848c-c67492d8b74e",
   "metadata": {},
   "outputs": [],
   "source": [
    "filtered_df_2021=filter_desired_columns(adf4, \n",
    "                                        generic_columns,\n",
    "                                        sport_column, \n",
    "                                        age_column, \n",
    "                                        gender_column,\n",
    "                                        location_columns_2021)\n",
    "\n",
    "filtered_df_2122=filter_desired_columns(adf5,\n",
    "                                        generic_columns, \n",
    "                                        sport_column, \n",
    "                                        age_column, \n",
    "                                        gender_column, \n",
    "                                        location_columns_2122)\n",
    "\n",
    "filtered_df_2223=filter_desired_columns(adf6,\n",
    "                                        generic_columns, \n",
    "                                        sport_column,\n",
    "                                        age_column, \n",
    "                                        gender_column, \n",
    "                                        location_columns_2223)"
   ]
  },
  {
   "cell_type": "markdown",
   "id": "663ff3ff-e927-46bd-80f8-c6665f270175",
   "metadata": {},
   "source": [
    "# Function 4: map_numerical_data_to_labels() "
   ]
  },
  {
   "cell_type": "code",
   "execution_count": null,
   "id": "d643f791-865b-4abc-83eb-b58ca82f5a2d",
   "metadata": {},
   "outputs": [],
   "source": [
    "def map_numerical_data_to_labels(data,column_name=\"x\" ,new_name=\"y\",mapping={}):\n",
    "    data[new_name]=data[column_name].map(mapping)\n",
    "    data.drop(column_name, axis=1, inplace=True)\n",
    "    return data"
   ]
  },
  {
   "cell_type": "code",
   "execution_count": null,
   "id": "141065af-6ec6-4c09-820b-41e3e3b27974",
   "metadata": {},
   "outputs": [],
   "source": [
    "csp_mapping = {\n",
    "    1.0: \"Bedfordshire & Luton\",\n",
    "    2.0: \"Berkshire\",\n",
    "    3.0: \"Birmingham\",\n",
    "    4.0: \"Black Country\",\n",
    "    5.0: \"Buckinghamshire and Milton Keynes\",\n",
    "    6.0: \"Peterborough & Cambridgeshire\",\n",
    "    7.0: \"Cheshire\",\n",
    "    8.0: \"Cornwall and Isles of Scilly\",\n",
    "    9.0: \"Cumbria\",\n",
    "    10.0: \"Derbyshire\",\n",
    "    11.0: \"Devon\",\n",
    "    12.0: \"Dorset\",\n",
    "    13.0: \"Durham\",\n",
    "    14.0: \"Greater Essex\",\n",
    "    15.0: \"Gloucestershire\",\n",
    "    16.0: \"Greater Manchester\",\n",
    "    17.0: \"Hampshire and Isle of Wight\",\n",
    "    18.0: \"Herefordshire and Worcestershire\",\n",
    "    19.0: \"Hertfordshire\",\n",
    "    20.0: \"Humber\",\n",
    "    21.0: \"Kent\",\n",
    "    22.0: \"Lancashire\",\n",
    "    23.0: \"Leicester, Leicestershire and Rutland\",\n",
    "    24.0: \"Lincolnshire\",\n",
    "    25.0: \"London\",\n",
    "    26.0: \"Merseyside\",\n",
    "    27.0: \"Norfolk\",\n",
    "    28.0: \"North Yorkshire\",\n",
    "    29.0: \"Northamptonshire\",\n",
    "    30.0: \"Northumberland\",\n",
    "    31.0: \"Nottinghamshire\",\n",
    "    32.0: \"Oxfordshire\",\n",
    "    33.0: \"Shropshire and Telford and the Wrekin\",\n",
    "    34.0: \"Somerset\",\n",
    "    35.0: \"South Yorkshire\",\n",
    "    36.0: \"Staffordshire and Stoke-on-Trent\",\n",
    "    37.0: \"Suffolk\",\n",
    "    38.0: \"Surrey\",\n",
    "    39.0: \"Sussex\",\n",
    "    40.0: \"Tees Valley\",\n",
    "    41.0: \"Tyne and Wear\",\n",
    "    42.0: \"Coventry, Solihull & Warwickshire\",\n",
    "    43.0: \"Bristol and West of England\",\n",
    "    44.0: \"West Yorkshire\",\n",
    "    45.0: \"Wiltshire & Swindon\"\n",
    "}\n"
   ]
  },
  {
   "cell_type": "code",
   "execution_count": null,
   "id": "c20addd0-296d-4ea3-8dd8-7616f3bb0fa6",
   "metadata": {},
   "outputs": [],
   "source": [
    "region_mapping = {\n",
    "    1.0: \"East\",\n",
    "    2.0: \"East Midlands\",\n",
    "    3.0: \"London\",\n",
    "    4.0: \"North East\",\n",
    "    5.0: \"North West\",\n",
    "    6.0: \"South East\",\n",
    "    7.0: \"South West\",\n",
    "    8.0: \"West Midlands\",\n",
    "    9.0: \"Yorkshire and the Humber\"\n",
    "}"
   ]
  },
  {
   "cell_type": "code",
   "execution_count": null,
   "id": "644143b9-e4ac-46b6-97b8-66ccfa4fdbae",
   "metadata": {},
   "outputs": [],
   "source": [
    "csp_1920 = {\n",
    "    -1.0: \"No information\",\n",
    "    1.0: \"Bedfordshire & Luton\",\n",
    "    2.0: \"Berkshire\",\n",
    "    3.0: \"Birmingham\",\n",
    "    4.0: \"Black Country\",\n",
    "    5.0: \"Buckinghamshire and Milton Keynes\",\n",
    "    6.0: \"Peterborough & Cambridgeshire\",\n",
    "    7.0: \"Cheshire\",\n",
    "    8.0: \"Cornwall and Isles of Scilly\",\n",
    "    9.0: \"Cumbria\",\n",
    "    10.0: \"Derbyshire\",\n",
    "    11.0: \"Devon\",\n",
    "    12.0: \"Dorset\",\n",
    "    13.0: \"Durham\",\n",
    "    14.0: \"Greater Essex\",\n",
    "    15.0: \"Gloucestershire\",\n",
    "    16.0: \"Greater Manchester\",\n",
    "    17.0: \"Hampshire and Isle of Wight\",\n",
    "    18.0: \"Herefordshire and Worcestershire\",\n",
    "    19.0: \"Hertfordshire\",\n",
    "    20.0: \"Humber\",\n",
    "    21.0: \"Kent\",\n",
    "    22.0: \"Lancashire\",\n",
    "    23.0: \"Leicester, Leicestershire and Rutland\",\n",
    "    24.0: \"Lincolnshire\",\n",
    "    25.0: \"London\",\n",
    "    26.0: \"Merseyside\",\n",
    "    27.0: \"Norfolk\",\n",
    "    28.0: \"North Yorkshire\",\n",
    "    29.0: \"Northamptonshire\",\n",
    "    30.0: \"Northumberland\",\n",
    "    31.0: \"Nottinghamshire\",\n",
    "    32.0: \"Oxfordshire\",\n",
    "    33.0: \"Shropshire and Telford and the Wrekin\",\n",
    "    34.0: \"Somerset\",\n",
    "    35.0: \"South Yorkshire\",\n",
    "    36.0: \"Staffordshire and Stoke-on-Trent\",\n",
    "    37.0: \"Suffolk\",\n",
    "    38.0: \"Surrey\",\n",
    "    39.0: \"Sussex\",\n",
    "    40.0: \"Tees Valley\",\n",
    "    41.0: \"Tyne and Wear\",\n",
    "    42.0: \"Coventry, Solihull & Warwickshire\",\n",
    "    43.0: \"Bristol and West of England\",\n",
    "    44.0: \"West Yorkshire\",\n",
    "    45.0: \"Wiltshire & Swindon\",\n",
    "    46.0: \"Derbyshire and Nottinghamshire\",\n",
    "    47.0: \"West and South Yorkshire\",\n",
    "    48.0: \"Rise North East\"\n",
    "}"
   ]
  },
  {
   "cell_type": "code",
   "execution_count": null,
   "id": "cd001628-4566-4944-88db-f88917cd044e",
   "metadata": {},
   "outputs": [],
   "source": [
    "map_numerical_data_to_labels(filtered_df_1718,column_name=\"CSP_name\",new_name=\"CSP\", mapping=csp_mapping)   \n",
    "map_numerical_data_to_labels(filtered_df_1718,column_name=\"Region_name\",new_name=\"Region\", mapping=region_mapping)\n",
    "\n",
    "map_numerical_data_to_labels(filtered_df_1819,column_name=\"CSP_name\",new_name=\"CSP\", mapping=csp_mapping)   \n",
    "map_numerical_data_to_labels(filtered_df_1819,column_name=\"Region_name\",new_name=\"Region\", mapping=region_mapping)\n",
    "\n",
    "map_numerical_data_to_labels(filtered_df_1920,column_name=\"CSP_name2019\",new_name=\"CSP\", mapping=csp_1920)   \n",
    "map_numerical_data_to_labels(filtered_df_1920,column_name=\"Region_name\",new_name=\"Region\", mapping=region_mapping)"
   ]
  },
  {
   "cell_type": "code",
   "execution_count": null,
   "id": "2109b8f7-0254-48f5-ba85-f16fe6493968",
   "metadata": {},
   "outputs": [],
   "source": [
    "map_numerical_data_to_labels(filtered_df_2021,column_name=\"CSP_name2020\",new_name=\"CSP\", mapping=csp_1920)   \n",
    "map_numerical_data_to_labels(filtered_df_2021,column_name=\"Region_name\",new_name=\"Region\", mapping=region_mapping)\n",
    "\n",
    "map_numerical_data_to_labels(filtered_df_2122,column_name=\"CSP_name2020\",new_name=\"CSP\", mapping=csp_1920)   \n",
    "map_numerical_data_to_labels(filtered_df_2122,column_name=\"Region_name\",new_name=\"Region\", mapping=region_mapping)\n",
    "\n",
    "map_numerical_data_to_labels(filtered_df_2223,column_name=\"CSP_name2019\",new_name=\"CSP\", mapping=csp_mapping)   \n",
    "map_numerical_data_to_labels(filtered_df_2223,column_name=\"Region_name\",new_name=\"Region\", mapping=region_mapping)"
   ]
  },
  {
   "cell_type": "markdown",
   "id": "b0a248f1-a8f5-4bbe-9d22-ae7f8516098d",
   "metadata": {},
   "source": [
    "# Optional Step (Can Skip)"
   ]
  },
  {
   "cell_type": "code",
   "execution_count": null,
   "id": "ad3f39b3-ace6-48fb-8463-89b36bb410c7",
   "metadata": {},
   "outputs": [],
   "source": [
    "# 2017-18\n",
    "filtered_df_1718 = filtered_df_1718.rename(columns={\"age_11\": \"Age\"})\n",
    "filtered_df_1718[\"Age\"] = filtered_df_1718[\"Age\"].astype(str)\n",
    "filtered_df_1718 = filtered_df_1718.join(\n",
    "    filtered_df_1718[\"Age\"].str.get_dummies(sep=\",\").add_prefix(\"Age_\")\n",
    ")\n",
    "\n",
    "# 2018-19\n",
    "filtered_df_1819 = filtered_df_1819.rename(columns={\"age_11\": \"Age\"})\n",
    "filtered_df_1819[\"Age\"] = filtered_df_1819[\"Age\"].astype(str)\n",
    "filtered_df_1819 = filtered_df_1819.join(\n",
    "    filtered_df_1819[\"Age\"].str.get_dummies(sep=\",\").add_prefix(\"Age_\")\n",
    ")\n",
    "\n",
    "# 2019-20\n",
    "filtered_df_1920 = filtered_df_1920.rename(columns={\"age_11\": \"Age\"})\n",
    "filtered_df_1920[\"Age\"] = filtered_df_1920[\"Age\"].astype(str)\n",
    "filtered_df_1920 = filtered_df_1920.join(\n",
    "    filtered_df_1920[\"Age\"].str.get_dummies(sep=\",\").add_prefix(\"Age_\")\n",
    ")\n"
   ]
  },
  {
   "cell_type": "code",
   "execution_count": null,
   "id": "4209b4a3-d2b0-4287-bf25-d7db1f553622",
   "metadata": {},
   "outputs": [],
   "source": [
    "# 2020-21\n",
    "filtered_df_2021 = filtered_df_2021.rename(columns={\"age_11\": \"Age\"})\n",
    "filtered_df_2021[\"Age\"] = filtered_df_2021[\"Age\"].astype(str)\n",
    "filtered_df_2021 = filtered_df_2021.join(\n",
    "    filtered_df_2021[\"Age\"].str.get_dummies(sep=\",\").add_prefix(\"Age_\")\n",
    ")\n",
    "\n",
    "# 2021-22\n",
    "filtered_df_2122 = filtered_df_2122.rename(columns={\"age_11\": \"Age\"})\n",
    "filtered_df_2122[\"Age\"] = filtered_df_2122[\"Age\"].astype(str)\n",
    "filtered_df_2122 = filtered_df_2122.join(\n",
    "    filtered_df_2122[\"Age\"].str.get_dummies(sep=\",\").add_prefix(\"Age_\")\n",
    ")\n",
    "\n",
    "# 2022-23\n",
    "filtered_df_2223 = filtered_df_2223.rename(columns={\"age_11\": \"Age\"})\n",
    "filtered_df_2223[\"Age\"] = filtered_df_2223[\"Age\"].astype(str)\n",
    "filtered_df_2223 = filtered_df_2223.join(\n",
    "    filtered_df_2223[\"Age\"].str.get_dummies(sep=\",\").add_prefix(\"Age_\")\n",
    ")\n"
   ]
  },
  {
   "cell_type": "markdown",
   "id": "0829d5f2-5768-4b5a-b4ca-4b3c20d91346",
   "metadata": {},
   "source": [
    "# Function 5: Common Functions for preprocessing"
   ]
  },
  {
   "cell_type": "code",
   "execution_count": null,
   "id": "efe6fa04-8db8-4c8c-bae1-1fbf7815e6e2",
   "metadata": {
    "scrolled": true
   },
   "outputs": [],
   "source": [
    "def age(data):\n",
    "    a=data[data[age_column]==1]  # Or any other number that the data might represent the age category.\n",
    "    return a                     # In our case, \"1\" means age category 16-19.\n",
    "\n",
    "def males(data):\n",
    "    b=data[data[gender_column]==1] # Or any other number that the data might represent as male\n",
    "\n",
    "def females(data):\n",
    "    b=data[data[gender_column]==2] \n",
    "    \n",
    "def sport(data):\n",
    "    b=data[data[sport_column]==1] # We have already filtered the rugby column which has values, \"0\" meaning No, \"1\" meaning yes to playing rugby or not.\n",
    "    return b"
   ]
  },
  {
   "cell_type": "code",
   "execution_count": null,
   "id": "35b4a678-6ea5-49a6-86b5-a6ab0470fc6b",
   "metadata": {},
   "outputs": [],
   "source": [
    "Sport_1718 = sport(filtered_df_1718)\n",
    "Sport_1819 = sport(filtered_df_1819)\n",
    "Sport_1920 = sport(filtered_df_1920)"
   ]
  },
  {
   "cell_type": "code",
   "execution_count": null,
   "id": "cf560701-3ce8-4c51-81fb-fb0a4427e0ef",
   "metadata": {
    "scrolled": true
   },
   "outputs": [],
   "source": [
    "Sport_2021=sport(filtered_df_2021)\n",
    "Sport_2122=sport(filtered_df_2122)\n",
    "Sport_2223=sport(filtered_df_2223)"
   ]
  },
  {
   "cell_type": "markdown",
   "id": "2b03f398-48f3-4618-bcd6-6a068f223e0c",
   "metadata": {},
   "source": [
    "# Function 6: convert_to_desired_format()"
   ]
  },
  {
   "cell_type": "code",
   "execution_count": null,
   "id": "f6529290-0cae-44dc-aca6-3e6834bee50e",
   "metadata": {},
   "outputs": [],
   "source": [
    "import os\n",
    "\n",
    "def convert_to_desired_format(data, desired_fileformat='csv', desired_file_name=None):\n",
    "     # Default file name if none is provided\n",
    "    if desired_file_name is None:\n",
    "        desired_file_name = f\"output.{desired_fileformat}\"\n",
    "    \n",
    "    # Convert and save in the required format\n",
    "    if desired_fileformat.lower() == 'csv':\n",
    "        data.to_csv(desired_file_name, index=False)\n",
    "    elif desired_fileformat.lower() == 'json':\n",
    "        data.to_json(desired_file_name, orient=\"records\", indent=4)\n",
    "    elif desired_fileformat.lower() in ['xls', 'xlsx', 'excel']:\n",
    "        data.to_excel(desired_file_name, index=False, engine=\"openpyxl\")\n",
    "    else:\n",
    "        raise ValueError(\"Unsupported file format. Choose from: 'csv', 'json', 'excel'.\")\n",
    "\n",
    "    print(f\"Data saved as {desired_file_name}\")"
   ]
  },
  {
   "cell_type": "code",
   "execution_count": null,
   "id": "04a73fe8-78b7-41f9-b94f-36db05299543",
   "metadata": {},
   "outputs": [],
   "source": [
    "convert_to_desired_format(Sport_1718, desired_fileformat='csv', desired_file_name=\"Sport_17_18_young_adults_new.csv\")\n",
    "convert_to_desired_format(Sport_1819, desired_fileformat='csv', desired_file_name=\"Sport_18_19_young_adults_new.csv\")\n",
    "convert_to_desired_format(Sport_1920, desired_fileformat='csv', desired_file_name=\"Sport_19_20_young_adults_new.csv\")"
   ]
  },
  {
   "cell_type": "code",
   "execution_count": null,
   "id": "2b210a2a-8665-4333-ab81-4c43fbff39cb",
   "metadata": {},
   "outputs": [],
   "source": [
    "convert_to_desired_format(Sport_2021, desired_fileformat='csv', desired_file_name=\"Sport_20_21_young_adults_new.csv\")\n",
    "convert_to_desired_format(Sport_2122, desired_fileformat='csv', desired_file_name=\"Sport_21_22_young_adults_new.csv\")\n",
    "convert_to_desired_format(Sport_2223, desired_fileformat='csv', desired_file_name=\"Sport_22_23_young_adults_new.csv\")"
   ]
  },
  {
   "cell_type": "markdown",
   "id": "44d28aa0-55c4-4e65-bdbd-1879f87fceb7",
   "metadata": {},
   "source": [
    "# Extract RFU files using function 1"
   ]
  },
  {
   "cell_type": "code",
   "execution_count": null,
   "id": "a0c58982-c933-4bef-b9b8-d1c63c2924cb",
   "metadata": {},
   "outputs": [],
   "source": [
    "file_path_rfu=[\"RFU_data.xlsx\"]"
   ]
  },
  {
   "cell_type": "code",
   "execution_count": null,
   "id": "e44f6615-ec6f-4e84-b842-1eca72f134ba",
   "metadata": {},
   "outputs": [],
   "source": [
    "df_1,df_2,df_3,df_4,df_5=load_files(file_path_rfu, sheet_indices=[7,9,11,13,15])"
   ]
  },
  {
   "cell_type": "code",
   "execution_count": null,
   "id": "1b8d1aef-5095-4d9a-b05e-6109652fed2d",
   "metadata": {},
   "outputs": [],
   "source": [
    "df1 = df_1.iloc[:-1, :-7] # This step is done to filter out age 18 plus entries\n",
    "df2 = df_2.iloc[:-1, :-7]\n",
    "df3 = df_3.iloc[:-1, :-7]\n",
    "df4 = df_4.iloc[:-1, :-7]\n",
    "df5 = df_5.iloc[:-1, :-7]"
   ]
  },
  {
   "cell_type": "code",
   "execution_count": null,
   "id": "4e04d976-f22c-451a-8f69-bc889a0a2ba1",
   "metadata": {},
   "outputs": [],
   "source": [
    "'''\n",
    "Years 2011, 2016,2017....2023\n",
    "'''\n",
    "dfs = [df1, df2, df3, df4, df5]\n",
    "# for df in dfs:\n",
    "#     df.drop('Unnamed: 32', axis=1, inplace=True)\n",
    "    \n",
    "years_rfu= [\"2018\", \"2019\", \"2019 nov\", \"2021 Jan\", \"2023 May\"]"
   ]
  },
  {
   "cell_type": "markdown",
   "id": "c8445d39-de8f-45f8-b424-ae1012a683f0",
   "metadata": {},
   "source": [
    "# Extract Saved ALS files using function 1"
   ]
  },
  {
   "cell_type": "code",
   "execution_count": null,
   "id": "f553598c-4af0-4ade-b8ae-47270d197667",
   "metadata": {},
   "outputs": [],
   "source": [
    "als_datasets=['Sport_17_18_young_adults_new.csv', \"Sport_18_19_young_adults_new.csv\", \"Sport_19_20_young_adults_new.csv\", \n",
    "         \"Sport_20_21_young_adults_new.csv\", \"Sport_21_22_young_adults_new.csv\", \"Sport_22_23_young_adults_new.csv\"]"
   ]
  },
  {
   "cell_type": "code",
   "execution_count": null,
   "id": "bf0d027a-5db1-48f7-b991-741ac9047884",
   "metadata": {},
   "outputs": [],
   "source": [
    "df_2017_18, df_2018_19, df_2019_20, df_2020_21, df_2021_22, df_2022_23=load_files(als_datasets)"
   ]
  },
  {
   "cell_type": "markdown",
   "id": "af64a450-11f7-4a10-892e-9516a3984503",
   "metadata": {},
   "source": [
    "# Function 8: weight_calc() [Only for ALS Data],[Skip for RFU]"
   ]
  },
  {
   "cell_type": "code",
   "execution_count": null,
   "id": "b4f0d549-2962-4a93-ae2e-baa077526031",
   "metadata": {},
   "outputs": [],
   "source": [
    "generic_columns=[\"Respondent_Serial\",\"wt_gross\"]\n",
    "gender_column='gend3'\n",
    "sport_column = \"onceawk_modplus_everywhere_GR_RUGBY_CC018\"\n",
    "age_column = \"Age\""
   ]
  },
  {
   "cell_type": "code",
   "execution_count": null,
   "id": "19dd6a95-6ce6-4bec-a828-a07f6184d9b2",
   "metadata": {},
   "outputs": [],
   "source": [
    "def weight_calc(df, col_1, col_2=\"wt_gross\"):\n",
    "    df[\"weighted_total\"] = df[col_1] * df[col_2]\n",
    "    return df"
   ]
  },
  {
   "cell_type": "code",
   "execution_count": null,
   "id": "6ff87c62-0fd0-470f-ad9c-e3dee0631947",
   "metadata": {},
   "outputs": [],
   "source": [
    "'''\n",
    "Sport column variable (replace with actual column name)\n",
    "'''\n",
    "#sport_column = \"Sport_Column_Name\"\n",
    "\n",
    "# Apply weight_calc to all datasets\n",
    "df_2017_18 = weight_calc(df_2017_18, col_1=sport_column)\n",
    "df_2018_19 = weight_calc(df_2018_19, col_1=sport_column)\n",
    "df_2019_20 = weight_calc(df_2019_20, col_1=sport_column)\n",
    "df_2020_21 = weight_calc(df_2020_21, col_1=sport_column)\n",
    "df_2021_22 = weight_calc(df_2021_22, col_1=sport_column)\n",
    "df_2022_23 = weight_calc(df_2022_23, col_1=sport_column)\n"
   ]
  },
  {
   "cell_type": "markdown",
   "id": "0b98a2bf-e10c-4d38-bf4c-4905ba46f09a",
   "metadata": {},
   "source": [
    "# Function 9: split_by_gender()"
   ]
  },
  {
   "cell_type": "code",
   "execution_count": null,
   "id": "f6006f69-ebe3-4802-a4c6-1cfb8d104882",
   "metadata": {},
   "outputs": [],
   "source": [
    "def split_by_gender(df,gender_column='gend3', male_code=1, female_code=2):\n",
    "    df_male = df[df[gender_column] == male_code]\n",
    "    df_female = df[df[gender_column] == female_code]\n",
    "    return df_male, df_female"
   ]
  },
  {
   "cell_type": "code",
   "execution_count": null,
   "id": "856a2b5f-5d7f-475a-b9bb-c3e7c3b8862b",
   "metadata": {},
   "outputs": [],
   "source": [
    "# Splitting each dataset into male & female\n",
    "df_2017_18_male, df_2017_18_female = split_by_gender(df_2017_18)\n",
    "df_2018_19_male, df_2018_19_female = split_by_gender(df_2018_19)\n",
    "df_2019_20_male, df_2019_20_female = split_by_gender(df_2019_20)\n",
    "df_2020_21_male, df_2020_21_female = split_by_gender(df_2020_21)\n",
    "df_2021_22_male, df_2021_22_female = split_by_gender(df_2021_22)\n",
    "df_2022_23_male, df_2022_23_female = split_by_gender(df_2022_23)"
   ]
  },
  {
   "cell_type": "code",
   "execution_count": null,
   "id": "1e09b5df-6cc3-4555-8614-c5f57a8c2e44",
   "metadata": {},
   "outputs": [],
   "source": [
    "# Weighted counts for male\n",
    "df_2017_18_male = weight_calc(df_2017_18_male, col_1=sport_column)\n",
    "df_2018_19_male = weight_calc(df_2018_19_male, col_1=sport_column)\n",
    "df_2019_20_male = weight_calc(df_2019_20_male, col_1=sport_column)\n",
    "df_2020_21_male = weight_calc(df_2020_21_male, col_1=sport_column)\n",
    "df_2021_22_male = weight_calc(df_2021_22_male, col_1=sport_column)\n",
    "df_2022_23_male = weight_calc(df_2022_23_male, col_1=sport_column)\n",
    "\n",
    "# Weighted counts for female\n",
    "df_2017_18_female = weight_calc(df_2017_18_female, col_1=sport_column)\n",
    "df_2018_19_female = weight_calc(df_2018_19_female, col_1=sport_column)\n",
    "df_2019_20_female = weight_calc(df_2019_20_female, col_1=sport_column)\n",
    "df_2020_21_female = weight_calc(df_2020_21_female, col_1=sport_column)\n",
    "df_2021_22_female = weight_calc(df_2021_22_female, col_1=sport_column)\n",
    "df_2022_23_female = weight_calc(df_2022_23_female, col_1=sport_column)"
   ]
  },
  {
   "cell_type": "markdown",
   "id": "333850df-c42b-4857-bbe7-db8a3dc71c05",
   "metadata": {},
   "source": [
    "# Labelling for ALS and RFU"
   ]
  },
  {
   "cell_type": "code",
   "execution_count": null,
   "id": "0aa3a206-5259-4f71-a1fd-686465bae133",
   "metadata": {},
   "outputs": [],
   "source": [
    "weighted_column=\"weighted_total\"\n",
    "datasets = [df_2017_18, df_2018_19, df_2019_20, df_2020_21, df_2021_22, df_2022_23]\n",
    "years_als = [\"2017-18\", \"2018-19\", \"2019-20\", \"2020-21\", \"2021-22\", \"2022-23\"]\n",
    "\n",
    "# List of datasets\n",
    "male_datasets = [df_2017_18_male, df_2018_19_male, df_2019_20_male, df_2020_21_male, df_2021_22_male, df_2022_23_male]\n",
    "\n",
    "# List of datasets\n",
    "female_datasets = [df_2017_18_female, df_2018_19_female, df_2019_20_female, df_2020_21_female, df_2021_22_female, df_2022_23_female]\n"
   ]
  },
  {
   "cell_type": "code",
   "execution_count": null,
   "id": "86c6ea00-40a7-41c0-9ea3-9cd26abb1ef9",
   "metadata": {},
   "outputs": [],
   "source": [
    "# Loop through and add 'count_col' to each\n",
    "for i, df in enumerate(dfs):\n",
    "    count_cols = [col for col in df.columns if col.endswith(\"M\") or col.endswith(\"F\")]\n",
    "    dfs[i][\"count_col\"] = df[count_cols].sum(axis=1)\n",
    "    \n",
    "for i, df in enumerate(dfs):\n",
    "    count_colsm = [col for col in df.columns if col.endswith(\"M\")]\n",
    "    dfs[i][\"count_col_m\"] = df[count_colsm].sum(axis=1)\n",
    "\n",
    "for i, df in enumerate(dfs):\n",
    "    count_colsf = [col for col in df.columns if col.endswith(\"F\")]\n",
    "    dfs[i][\"count_col_f\"] = df[count_colsf].sum(axis=1)"
   ]
  },
  {
   "cell_type": "markdown",
   "id": "12866529-401c-4d83-b505-7d5d944dd8eb",
   "metadata": {},
   "source": [
    "# Function 10: ALS_overall_plot"
   ]
  },
  {
   "cell_type": "code",
   "execution_count": null,
   "id": "6d5425fa-80c1-417f-a006-0355fb13e235",
   "metadata": {},
   "outputs": [],
   "source": [
    "def als_overall_plot(datasets, years):\n",
    "    overall_sums = [df[\"weighted_total\"].sum() for df in datasets]\n",
    "\n",
    "    # Plot\n",
    "    print(overall_sums)\n",
    "    plt.figure(figsize=(10, 5))\n",
    "    plt.plot(years, overall_sums, marker='o', linestyle='-', label=\"Overall Participation Count (Weighted Sum)\", color='blue')\n",
    "    plt.xlabel(\"Year\")\n",
    "    plt.ylabel(\"Weighted Total\")\n",
    "    plt.title(\"Year-wise Overall (Males plus Females Combined) Trend (Weighted Total)\")\n",
    "    plt.legend()\n",
    "    plt.grid(True)\n",
    "    plt.tight_layout()\n",
    "    plt.show()\n",
    "\n",
    "    return pd.DataFrame({\n",
    "        \"Year\": years,\n",
    "        \"Total_Count\": overall_sums,\n",
    "    })\n"
   ]
  },
  {
   "cell_type": "code",
   "execution_count": null,
   "id": "08b0f3da-6a23-4dcb-b8c3-c66a3765d16c",
   "metadata": {},
   "outputs": [],
   "source": [
    "als_overall_plot(datasets, years_als)"
   ]
  },
  {
   "cell_type": "markdown",
   "id": "4afba0a3-afaf-41b0-9443-bffac0a799d8",
   "metadata": {},
   "source": [
    "# Function 11: plot_weighted_gender_trend() for ALS"
   ]
  },
  {
   "cell_type": "code",
   "execution_count": null,
   "id": "b267c345-3ec1-4834-bf6a-15ffd4a85f4c",
   "metadata": {},
   "outputs": [],
   "source": [
    "import matplotlib.pyplot as plt\n",
    "\n",
    "# Function to create year-wise line plot for Male & Female trends\n",
    "def als_genderwise_plot(male_datasets, female_datasets, years):\n",
    "    male_sums = [df[\"weighted_total\"].sum() for df in male_datasets]\n",
    "    female_sums = [df[\"weighted_total\"].sum() for df in female_datasets]\n",
    "\n",
    "    # Plot\n",
    "    plt.figure(figsize=(10, 5))\n",
    "    plt.plot(years, male_sums, marker='o', linestyle='-', label=\"Male (Weighted Sum)\", color='blue')\n",
    "    plt.plot(years, female_sums, marker='o', linestyle='-', label=\"Female (Weighted Sum)\", color='red')\n",
    "\n",
    "    plt.xlabel(\"Year\")\n",
    "    plt.ylabel(\"Weighted Total\")\n",
    "    plt.title(\"Year-wise Male & Female Trend (Weighted Total)\")\n",
    "    plt.legend()\n",
    "    plt.grid(True)\n",
    "    plt.tight_layout()\n",
    "    plt.show()\n",
    "\n",
    "    return pd.DataFrame({\n",
    "        \"Year\": years,\n",
    "        \"Total_Male\": male_sums,\n",
    "        \"Total_Female\": female_sums\n",
    "    })\n"
   ]
  },
  {
   "cell_type": "code",
   "execution_count": null,
   "id": "5f1f7ab7-d23a-45e6-ab8f-df43fb88aa55",
   "metadata": {},
   "outputs": [],
   "source": [
    "als_genderwise_plot(male_datasets, female_datasets, years_als)"
   ]
  },
  {
   "cell_type": "markdown",
   "id": "b8278174-e0ff-4852-901a-8bc547e72fc4",
   "metadata": {},
   "source": [
    "# Function 12: Total RFU y-o-y participation"
   ]
  },
  {
   "cell_type": "code",
   "execution_count": null,
   "id": "1ae36ddb-e21c-48fc-b022-6a79a5690a54",
   "metadata": {},
   "outputs": [],
   "source": [
    "import matplotlib.pyplot as plt\n",
    "import pandas as pd\n",
    "\n",
    "def rfu_overall_plot(dfs, years, title=\"Total Participation (Male + Female) Over Years\"):\n",
    "    \"\"\"\n",
    "    Plots total (male + female) participation per year.\n",
    "\n",
    "    Parameters:\n",
    "    dfs (list of pd.DataFrame): List of yearly DataFrames.\n",
    "    years (list): Corresponding year labels.\n",
    "    title (str): Plot title.\n",
    "    \"\"\"\n",
    "\n",
    "    total_combined = []\n",
    "\n",
    "    for df in dfs:\n",
    "        male_cols = [col for col in df.columns if col.endswith('M')]\n",
    "        female_cols = [col for col in df.columns if col.endswith('F')]\n",
    "\n",
    "        male_total = df[male_cols].sum().sum()\n",
    "        female_total = df[female_cols].sum().sum()\n",
    "        total_combined.append(male_total + female_total)\n",
    "\n",
    "    # Plotting\n",
    "    plt.figure(figsize=(8, 5))\n",
    "    plt.plot(years, total_combined, marker='^', linestyle='--', color='purple', label='Total (M + F)')\n",
    "    plt.title(title)\n",
    "    plt.xlabel(\"Year\")\n",
    "    plt.ylabel(\"Total Participants\")\n",
    "    plt.xticks(rotation=45)\n",
    "    plt.grid(True)\n",
    "    plt.legend()\n",
    "    plt.tight_layout()\n",
    "    plt.show()\n",
    "\n",
    "    return pd.DataFrame({\n",
    "        \"Year\": years,\n",
    "        \"Total_Count\": total_combined,\n",
    "    })\n"
   ]
  },
  {
   "cell_type": "code",
   "execution_count": null,
   "id": "a5f33ec4-437e-4420-8b20-a3b94a84ea22",
   "metadata": {},
   "outputs": [],
   "source": [
    "rfu_overall_plot(dfs, years_rfu)"
   ]
  },
  {
   "cell_type": "markdown",
   "id": "4a1b4c37-1505-4d85-9640-09d2cc56b946",
   "metadata": {},
   "source": [
    "# Function 13: Genderwise yoy RFU participation"
   ]
  },
  {
   "cell_type": "code",
   "execution_count": null,
   "id": "6117c7a9-fd7d-4f32-abf0-4ec933bd1f8d",
   "metadata": {},
   "outputs": [],
   "source": [
    "#copy\n",
    "import matplotlib.pyplot as plt\n",
    "import pandas as pd\n",
    "\n",
    "def rfu_gender_plot(dfs, years, title=\"Year-wise Participation by Gender for RFU(U17-U17)\"):\n",
    "\n",
    "    total_males = []\n",
    "    total_females = []\n",
    "\n",
    "    for df in dfs:\n",
    "        # Filter only columns ending with 'M' or 'F' and NOT starting with 'count_col'\n",
    "        male_cols = [col for col in df.columns if col.endswith('M')]\n",
    "        female_cols = [col for col in df.columns if col.endswith('F')]\n",
    "\n",
    "        male_total = df[male_cols].sum().sum()                        \n",
    "        female_total = df[female_cols].sum().sum()                    \n",
    "       \n",
    "        total_males.append(male_total)\n",
    "        total_females.append(female_total)\n",
    "\n",
    "    # Plotting\n",
    "    plt.figure(figsize=(8, 5))\n",
    "    plt.plot(years, total_males, marker='o', label='Male')\n",
    "    plt.plot(years, total_females, marker='s', label='Female')\n",
    "    plt.title(title)\n",
    "    plt.xlabel(\"Year\")\n",
    "    plt.ylabel(\"Total Participants\")\n",
    "    plt.xticks(rotation=45)\n",
    "    plt.grid(True)\n",
    "    plt.legend()\n",
    "    plt.tight_layout()\n",
    "    plt.show()\n",
    "\n",
    "    # Summary table\n",
    "    return pd.DataFrame({\n",
    "        \"Year\": years,\n",
    "        \"Total_Male\": total_males,\n",
    "        \"Total_Female\": total_females\n",
    "    })\n"
   ]
  },
  {
   "cell_type": "code",
   "execution_count": null,
   "id": "05b89353-56a8-407a-bb0c-f2c5746a4d2f",
   "metadata": {},
   "outputs": [],
   "source": [
    "rfu_gender_plot(dfs, years_rfu)"
   ]
  },
  {
   "cell_type": "markdown",
   "id": "df93d8b3-8ebb-4d3d-afc8-1e901931dba5",
   "metadata": {},
   "source": [
    "# Function 14: group_by_columns()"
   ]
  },
  {
   "cell_type": "code",
   "execution_count": null,
   "id": "0734197e-0a12-4fd2-96fe-9e36638fba56",
   "metadata": {},
   "outputs": [],
   "source": [
    "import pandas as pd\n",
    "\n",
    "def group_by_columns(df, years, groupby_cols, count_col):\n",
    "\n",
    "    grouped_data = {}\n",
    "\n",
    "    for df, year in zip(df, years):\n",
    "        grouped_df = df.groupby(groupby_cols)[count_col].sum()\n",
    "        grouped_data[year] = grouped_df.copy()  # Ensure a copy is stored\n",
    "    df_1=pd.DataFrame(grouped_data)\n",
    "    return df_1\n"
   ]
  },
  {
   "cell_type": "code",
   "execution_count": null,
   "id": "1007ec05-9613-4200-8f77-f0b46b9616bd",
   "metadata": {},
   "outputs": [],
   "source": [
    "'''\n",
    "Implementing Function 10\n",
    "'''\n",
    "weighted_column=\"weighted_total\"\n",
    "regionwise_males=group_by_columns(male_datasets, years_als, groupby_cols=['Region','CSP'], count_col=weighted_column)\n",
    "regionwise_females=group_by_columns(female_datasets, years_als, groupby_cols=['Region','CSP'], count_col=weighted_column)\n",
    "regionwise_overall=group_by_columns(datasets, years_als, groupby_cols=['Region','CSP'], count_col=weighted_column)"
   ]
  },
  {
   "cell_type": "code",
   "execution_count": null,
   "id": "040f2fd4-73f1-4506-ae57-936700134876",
   "metadata": {},
   "outputs": [],
   "source": [
    "males_regionwise_rfu=group_by_columns(dfs, years_rfu, groupby_cols=['Constituent Body'], count_col=\"count_col_m\")\n",
    "females_regionwise_rfu=group_by_columns(dfs, years_rfu, groupby_cols=['Constituent Body'], count_col=\"count_col_f\")\n",
    "overall_regionwise_rfu=group_by_columns(dfs, years_rfu, groupby_cols=['Constituent Body'], count_col=\"count_col\")"
   ]
  },
  {
   "cell_type": "markdown",
   "id": "cf6ed8d6-9f61-4516-b45b-cb3d1fee837d",
   "metadata": {},
   "source": [
    "## Removing counties containing zero values"
   ]
  },
  {
   "cell_type": "code",
   "execution_count": null,
   "id": "4972422c-c30a-48be-a1b6-612a6e54d63f",
   "metadata": {},
   "outputs": [],
   "source": [
    "overall_regionwise_rfu_nonzero_filtered = overall_regionwise_rfu[(overall_regionwise_rfu != 0).all(axis=1)]\n",
    "overall_regionwise_rfu_zero_filtered= overall_regionwise_rfu[(overall_regionwise_rfu == 0).all(axis=1)]\n",
    "\n",
    "males_regionwise_rfu_nonzero_filtered = males_regionwise_rfu[(males_regionwise_rfu != 0).any(axis=1)]\n",
    "males_regionwise_rfu_zero_filtered=males_regionwise_rfu[(males_regionwise_rfu == 0).any(axis=1)]\n",
    "\n",
    "females_regionwise_rfu_nonzero_filtered = females_regionwise_rfu[(females_regionwise_rfu != 0).any(axis=1)]\n",
    "females_regionwise_rfu_zero_filtered= females_regionwise_rfu[(females_regionwise_rfu == 0).any(axis=1)]"
   ]
  },
  {
   "cell_type": "code",
   "execution_count": null,
   "id": "3c6cd0b2-46e6-495f-802d-f6cb449daeae",
   "metadata": {},
   "outputs": [],
   "source": [
    "for year, df in zip(years_als, datasets):\n",
    "    total = df['weighted_total'].sum()\n",
    "    print(f\"Dataset {year}: {total:,.2f}\")\n",
    "\n",
    "for year, df in zip(years_als, male_datasets):\n",
    "    total = df['weighted_total'].sum()\n",
    "    print(f\"Dataset {year} (Male): {total:,.2f}\")\n",
    "\n",
    "for year, df in zip(years_als, female_datasets):\n",
    "    total = df['weighted_total'].sum()\n",
    "    print(f\"Dataset {year} (Female): {total:,.2f}\")\n"
   ]
  },
  {
   "cell_type": "markdown",
   "id": "4d5de22a-08b7-4f9e-8107-e47465138b24",
   "metadata": {},
   "source": [
    "# Function 15: Plots for various modes for ALS and RFU"
   ]
  },
  {
   "cell_type": "code",
   "execution_count": null,
   "id": "2ddf62df-3476-401f-84e8-0e38738f406a",
   "metadata": {},
   "outputs": [],
   "source": [
    "#DONE CODE\n",
    "import matplotlib.pyplot as plt\n",
    "\n",
    "def plot_category_trends(df, top_n=5, mode=\"largest\", first_col=None, last_col=None,\n",
    "                         xlabel=\"Year\", ylabel=\"Participation Count\", title=\"Participation Trends\"):\n",
    "\n",
    "    \"\"\"\n",
    "    Plots year-wise trends for the top OR bottom N categories based on selected analysis modes.\n",
    "    Modes supported: largest, most_improved_custom, least_improved_custom,\n",
    "                     cagr, lowest_cagr, recovery, weakest_recovery\n",
    "\n",
    "    Parameters:\n",
    "    df (DataFrame): Rows = categories, Columns = time points.\n",
    "    top_n (int): Top N categories to plot.\n",
    "    mode (str): Analysis mode.\n",
    "    first_col (str): Starting year/column name.\n",
    "    last_col (str): Ending year/column name.\n",
    "    xlabel (str), ylabel (str), title (str): Plot labels.\n",
    "\n",
    "    Returns:\n",
    "    DataFrame: Selected categories and their summary values.\n",
    "    \"\"\"\n",
    "\n",
    "    if mode == \"largest\":\n",
    "        selected_categories = df.sum(axis=1).nlargest(top_n)\n",
    "        title = f\"Top {top_n} {title}\"\n",
    "\n",
    "    elif mode == \"smallest\":\n",
    "        selected_categories = df.sum(axis=1).nsmallest(top_n)\n",
    "        title = f\"Top {top_n} {title}\"\n",
    "\n",
    "    elif mode == \"most_improved_custom\":\n",
    "        improvement = df[last_col] - df[first_col]\n",
    "        selected_categories = improvement.nlargest(top_n)\n",
    "        title = f\"Most Improved {top_n} {title}\"\n",
    "\n",
    "    elif mode == \"least_improved_custom\":\n",
    "        improvement = df[last_col] - df[first_col]\n",
    "        selected_categories = improvement.nsmallest(top_n)\n",
    "        title = f\"Least Improved {top_n} {title}\"\n",
    "\n",
    "    elif mode == \"percent_growth\":\n",
    "        percent_growth = ((df[last_col] - df[first_col]) / df[first_col]) * 100\n",
    "        selected_categories = percent_growth.nlargest(top_n)\n",
    "        title = f\"Top {top_n} Percent Growth {title}\"\n",
    "        \n",
    "    elif mode == \"percent_fall\":\n",
    "        percent_growth = ((df[last_col] - df[first_col]) / df[first_col]) * 100\n",
    "        selected_categories = percent_growth.nsmallest(top_n)\n",
    "        title = f\"Top {top_n} Percent Fall {title}\"\n",
    "\n",
    "    elif mode == \"recovery\":\n",
    "        middle_cols = df.loc[:, first_col:last_col].iloc[:, 1:-1].columns\n",
    "        min_dip = df[middle_cols].min(axis=1)\n",
    "        recovery_strength = df[last_col] - min_dip\n",
    "        selected_categories = recovery_strength.nlargest(top_n)\n",
    "        title = f\"Top {top_n} Recovery after Dip {title}\"\n",
    "\n",
    "    elif mode == \"weakest_recovery\":\n",
    "        middle_cols = df.loc[:, first_col:last_col].iloc[:, 1:-1].columns\n",
    "        min_dip = df[middle_cols].min(axis=1)\n",
    "        recovery_strength = df[last_col] - min_dip\n",
    "        selected_categories = recovery_strength.nsmallest(top_n)\n",
    "        title = f\"Weakest {top_n} Recovery after Dip {title}\"\n",
    "\n",
    "    # ✅ Plot\n",
    "    for category in selected_categories.index:\n",
    "        plt.plot(df.columns, df.loc[category], marker='o', linestyle='-', label=category)\n",
    "\n",
    "        plt.xlabel(xlabel)\n",
    "        plt.ylabel(ylabel)\n",
    "        plt.title(title)\n",
    "        plt.xticks(rotation=45)\n",
    "        plt.legend(loc='upper left', bbox_to_anchor=(1, 1), fontsize=\"small\")\n",
    "        plt.grid(True)\n",
    "\n",
    "    return selected_categories.to_frame(name='Summary Value')\n"
   ]
  },
  {
   "cell_type": "markdown",
   "id": "982b0d48-7b53-46a9-963f-383273e1145c",
   "metadata": {},
   "source": [
    "# Overall ALS Plots"
   ]
  },
  {
   "cell_type": "code",
   "execution_count": null,
   "id": "d4905762-a354-4431-8721-91fc413f34b7",
   "metadata": {},
   "outputs": [],
   "source": [
    "\n",
    "\n",
    "'''\n",
    "modes = [\n",
    "    \"largest\", \"smallest\", \"most_improved_custom\", \"least_improved_custom\", \"cagr\",\n",
    "    \"lowest_cagr\", \"recovery\", \"weakest_recovery\"\n",
    "]\n",
    "'''"
   ]
  },
  {
   "cell_type": "code",
   "execution_count": null,
   "id": "b972fe0a-7a7f-4d98-9d27-4078bfe89cb5",
   "metadata": {},
   "outputs": [],
   "source": [
    "first_col=\"2017-18\"\n",
    "last_col='2022-23'"
   ]
  },
  {
   "cell_type": "code",
   "execution_count": null,
   "id": "b903e854-2891-4cb7-89c5-bf4831a5e912",
   "metadata": {},
   "outputs": [],
   "source": [
    "plot_category_trends(regionwise_overall, first_col=\"2017-18\",last_col='2022-23',mode='largest')"
   ]
  },
  {
   "cell_type": "code",
   "execution_count": null,
   "id": "0ad4be37-dca8-4bab-83a5-07dd0b2c2b62",
   "metadata": {},
   "outputs": [],
   "source": [
    "plot_category_trends(regionwise_overall, first_col=\"2017-18\",last_col='2022-23',mode='smallest')"
   ]
  },
  {
   "cell_type": "code",
   "execution_count": null,
   "id": "af79b596-0887-4ca3-9a71-4a00c2bf6d5f",
   "metadata": {},
   "outputs": [],
   "source": [
    "plot_category_trends(regionwise_overall, first_col=\"2017-18\",last_col='2022-23',mode='most_improved_custom')"
   ]
  },
  {
   "cell_type": "code",
   "execution_count": null,
   "id": "2c5614f6-f1fc-4597-add2-ecfa10098af3",
   "metadata": {},
   "outputs": [],
   "source": [
    "plot_category_trends(regionwise_overall, first_col=\"2017-18\",last_col='2022-23', mode='least_improved_custom')"
   ]
  },
  {
   "cell_type": "code",
   "execution_count": null,
   "id": "35a41223-cc2e-40d0-a0ef-c6120efa823f",
   "metadata": {},
   "outputs": [],
   "source": [
    "plot_category_trends(regionwise_overall,  first_col=\"2017-18\",last_col='2022-23',  mode='percent_growth')"
   ]
  },
  {
   "cell_type": "code",
   "execution_count": null,
   "id": "7f0429d1-32b1-423b-8b46-5acec7f2dfd0",
   "metadata": {},
   "outputs": [],
   "source": [
    "plot_category_trends(regionwise_overall,  first_col=\"2017-18\",last_col='2022-23',  mode='percent_fall')"
   ]
  },
  {
   "cell_type": "markdown",
   "id": "6a0e5391-04c3-434a-9357-cd557a2f6726",
   "metadata": {
    "jp-MarkdownHeadingCollapsed": true
   },
   "source": [
    "# Overall RFU Plots"
   ]
  },
  {
   "cell_type": "code",
   "execution_count": null,
   "id": "f5e17962-e0e8-4e21-8f8d-e10305a4190f",
   "metadata": {},
   "outputs": [],
   "source": [
    "plot_category_trends(overall_regionwise_rfu_nonzero_filtered, first_col='2018', last_col='2023 May', mode='largest')"
   ]
  },
  {
   "cell_type": "code",
   "execution_count": null,
   "id": "5d2a3208-e4a8-4e73-b72f-7ad14cf71494",
   "metadata": {},
   "outputs": [],
   "source": [
    "plot_category_trends(overall_regionwise_rfu_nonzero_filtered, top_n=8, first_col='2018', last_col='2023 May', mode='smallest')"
   ]
  },
  {
   "cell_type": "code",
   "execution_count": null,
   "id": "f4fcdd8c-bfd9-4192-b6fe-e0e170912da1",
   "metadata": {},
   "outputs": [],
   "source": [
    "plot_category_trends(overall_regionwise_rfu_nonzero_filtered, first_col='2018', last_col='2023 May', mode='most_improved_custom')"
   ]
  },
  {
   "cell_type": "code",
   "execution_count": null,
   "id": "c300a20c-bd10-47d3-b348-7d4f5438b0b6",
   "metadata": {},
   "outputs": [],
   "source": [
    "plot_category_trends(overall_regionwise_rfu_nonzero_filtered, top_n=8, first_col='2018', last_col='2023 May', mode='least_improved_custom')"
   ]
  },
  {
   "cell_type": "code",
   "execution_count": null,
   "id": "a91f54ea-7fc2-487e-aee1-87359d0b2f60",
   "metadata": {},
   "outputs": [],
   "source": [
    "plot_category_trends(overall_regionwise_rfu_nonzero_filtered, first_col='2018', last_col='2023 May', mode='percent_growth')"
   ]
  },
  {
   "cell_type": "code",
   "execution_count": null,
   "id": "bcb57e44-9371-4fc7-9c0d-aec1852b46aa",
   "metadata": {},
   "outputs": [],
   "source": [
    "plot_category_trends(overall_regionwise_rfu_nonzero_filtered, top_n=8,  first_col='2018', last_col='2023 May', mode='percent_fall')"
   ]
  },
  {
   "cell_type": "markdown",
   "id": "ab51c967-ade0-41c1-afc4-e426cc4a5729",
   "metadata": {},
   "source": [
    "# ALS Plots (Males)"
   ]
  },
  {
   "cell_type": "code",
   "execution_count": null,
   "id": "9dbcda4c-e5b3-49c9-a88b-62bcf0141ee0",
   "metadata": {},
   "outputs": [],
   "source": [
    "first_col=\"2017-18\"\n",
    "last_col='2022-23'\n",
    "\n",
    "'''\n",
    "modes = [\n",
    "    \"largest\", \"smallest\", \"most_improved_custom\", \"least_improved_custom\", \"cagr\",\n",
    "    \"lowest_cagr\", \"recovery\", \"weakest_/'recovery\"\n",
    "]\n",
    "'''"
   ]
  },
  {
   "cell_type": "code",
   "execution_count": null,
   "id": "3d954195-9005-4705-b41d-8c02ac5b73fe",
   "metadata": {},
   "outputs": [],
   "source": [
    "plot_category_trends(regionwise_males,  first_col=\"2017-18\",last_col='2022-23',  mode='largest')"
   ]
  },
  {
   "cell_type": "code",
   "execution_count": null,
   "id": "8bf49335-8644-4870-a779-1e31b81a3fb9",
   "metadata": {},
   "outputs": [],
   "source": [
    "plot_category_trends(regionwise_males, first_col=\"2017-18\",last_col='2022-23', mode='smallest')"
   ]
  },
  {
   "cell_type": "code",
   "execution_count": null,
   "id": "669ff656-a8a3-4783-bcc2-6032877c444c",
   "metadata": {},
   "outputs": [],
   "source": [
    "plot_category_trends(regionwise_males,first_col=\"2017-18\",last_col='2022-23', mode='most_improved_custom')"
   ]
  },
  {
   "cell_type": "code",
   "execution_count": null,
   "id": "b55a4f82-3cce-47c0-a96e-e685d63fc880",
   "metadata": {},
   "outputs": [],
   "source": [
    "plot_category_trends(regionwise_males,first_col=\"2017-18\",last_col='2022-23', mode='least_improved_custom')"
   ]
  },
  {
   "cell_type": "code",
   "execution_count": null,
   "id": "3b561e76-57cf-477d-a123-6103cfdb8d56",
   "metadata": {},
   "outputs": [],
   "source": [
    "plot_category_trends(regionwise_males,first_col=\"2017-18\",last_col='2022-23', mode='percent_growth')"
   ]
  },
  {
   "cell_type": "code",
   "execution_count": null,
   "id": "8b48d7bb-dbdf-488a-a1fb-17d4a6adb6b0",
   "metadata": {},
   "outputs": [],
   "source": [
    "plot_category_trends(regionwise_males,first_col=\"2017-18\",last_col='2022-23', mode='percent_fall')"
   ]
  },
  {
   "cell_type": "markdown",
   "id": "0e6dd56e-c797-4789-9b68-903c1b6fa828",
   "metadata": {},
   "source": [
    "# RFU Plots (Males)"
   ]
  },
  {
   "cell_type": "code",
   "execution_count": null,
   "id": "42f995f3-c91e-43c2-8232-9a46e90abae0",
   "metadata": {},
   "outputs": [],
   "source": [
    "'''\n",
    "modes = [\n",
    "    \"largest\", \"smallest\", \"most_improved_custom\", \"least_improved_custom\", \"percent_growth\",\n",
    "    \"percent_fall\"\n",
    "]\n",
    "'''"
   ]
  },
  {
   "cell_type": "code",
   "execution_count": null,
   "id": "c88c800f-5f4f-4888-8b95-8e3ef3856f26",
   "metadata": {},
   "outputs": [],
   "source": []
  },
  {
   "cell_type": "code",
   "execution_count": null,
   "id": "d2f593a4-79de-4c93-bb40-7fd4c2be0586",
   "metadata": {},
   "outputs": [],
   "source": [
    "plot_category_trends(males_regionwise_rfu_nonzero_filtered,  first_col='2018', last_col='2023 May', mode='largest')"
   ]
  },
  {
   "cell_type": "code",
   "execution_count": null,
   "id": "3ce3c8e3-5c06-4f56-b103-3648bbc97a14",
   "metadata": {},
   "outputs": [],
   "source": [
    "plot_category_trends(males_regionwise_rfu_nonzero_filtered, top_n=8,  first_col='2018', last_col='2023 May', mode='smallest')"
   ]
  },
  {
   "cell_type": "code",
   "execution_count": null,
   "id": "863e90fd-6522-40e9-835b-650438530ca1",
   "metadata": {},
   "outputs": [],
   "source": [
    "plot_category_trends(males_regionwise_rfu_nonzero_filtered, top_n=8,  first_col='2018', last_col='2023 May', mode='most_improved_custom')"
   ]
  },
  {
   "cell_type": "code",
   "execution_count": null,
   "id": "981de5ef-6834-46ee-8a6b-8efa5bae474c",
   "metadata": {},
   "outputs": [],
   "source": [
    "plot_category_trends(males_regionwise_rfu_nonzero_filtered, top_n=8, first_col='2018', last_col='2023 May', mode='least_improved_custom')"
   ]
  },
  {
   "cell_type": "code",
   "execution_count": null,
   "id": "7a509af7-6700-435f-9b85-a43cac852db8",
   "metadata": {},
   "outputs": [],
   "source": [
    "plot_category_trends(males_regionwise_rfu_nonzero_filtered, first_col='2018', last_col='2023 May', mode='percent_growth')"
   ]
  },
  {
   "cell_type": "code",
   "execution_count": null,
   "id": "813331fc-a804-4ae9-a2e8-d7afeb862a4f",
   "metadata": {},
   "outputs": [],
   "source": [
    "plot_category_trends(males_regionwise_rfu_nonzero_filtered, top_n=8, first_col='2018', last_col='2023 May', mode='percent_fall')"
   ]
  },
  {
   "cell_type": "markdown",
   "id": "1775a7e6-d971-4a39-928b-037e8ec1dd72",
   "metadata": {
    "jp-MarkdownHeadingCollapsed": true
   },
   "source": [
    "# ALS Plots (Females)"
   ]
  },
  {
   "cell_type": "code",
   "execution_count": null,
   "id": "f8723256-d2be-4f35-8211-ecae026e43bd",
   "metadata": {},
   "outputs": [],
   "source": [
    "plot_category_trends(regionwise_females,  first_col=\"2017-18\",last_col='2022-23',  mode='largest')"
   ]
  },
  {
   "cell_type": "code",
   "execution_count": null,
   "id": "b59173a7-8439-46b5-b1cc-707f00987753",
   "metadata": {},
   "outputs": [],
   "source": [
    "plot_category_trends(regionwise_females,  first_col=\"2017-18\",last_col='2022-23',  mode='smallest')"
   ]
  },
  {
   "cell_type": "code",
   "execution_count": null,
   "id": "bab0f576-69f9-4c75-ad63-663792eb5e95",
   "metadata": {},
   "outputs": [],
   "source": [
    "plot_category_trends(regionwise_females,  first_col=\"2017-18\",last_col='2022-23',  mode='most_improved_custom')"
   ]
  },
  {
   "cell_type": "code",
   "execution_count": null,
   "id": "fe3e10ac-5546-496e-be08-91ba2bfe6bf6",
   "metadata": {},
   "outputs": [],
   "source": [
    "plot_category_trends(regionwise_females,  first_col=\"2017-18\",last_col='2022-23',  mode='least_improved_custom')"
   ]
  },
  {
   "cell_type": "code",
   "execution_count": null,
   "id": "57e04b60-5f4f-4fa9-9ad7-ced93a4e66e0",
   "metadata": {},
   "outputs": [],
   "source": [
    "plot_category_trends(regionwise_females,  first_col=\"2017-18\",last_col='2022-23',  mode='percent_growth')"
   ]
  },
  {
   "cell_type": "code",
   "execution_count": null,
   "id": "ffbab15a-3a06-496c-9905-fbe208163f45",
   "metadata": {},
   "outputs": [],
   "source": [
    "plot_category_trends(regionwise_females,  first_col=\"2017-18\",last_col='2022-23',  mode='percent_fall')"
   ]
  },
  {
   "cell_type": "markdown",
   "id": "9f8fbf8d-c506-4e91-b9ca-cfaea848cabb",
   "metadata": {},
   "source": [
    "# RFU Plots (Females)"
   ]
  },
  {
   "cell_type": "code",
   "execution_count": null,
   "id": "2cf8f7f7-6288-4b9d-aec9-cbde761cde4a",
   "metadata": {},
   "outputs": [],
   "source": [
    "plot_category_trends(females_regionwise_rfu_nonzero_filtered, first_col='2018', last_col='2023 May', mode='largest')"
   ]
  },
  {
   "cell_type": "code",
   "execution_count": null,
   "id": "227ede42-da46-4fe2-85e0-44662ba37bfa",
   "metadata": {},
   "outputs": [],
   "source": [
    "plot_category_trends(females_regionwise_rfu_nonzero_filtered, top_n=8, first_col='2018', last_col='2023 May', mode='smallest')"
   ]
  },
  {
   "cell_type": "code",
   "execution_count": null,
   "id": "af31baf4-ec48-4f34-8bce-22c56a523301",
   "metadata": {},
   "outputs": [],
   "source": [
    "plot_category_trends(females_regionwise_rfu_nonzero_filtered, top_n=8,first_col='2018', last_col='2023 May', mode='most_improved_custom')"
   ]
  },
  {
   "cell_type": "code",
   "execution_count": null,
   "id": "c1c63ccc-ceac-4009-b8af-fa7be6b2f253",
   "metadata": {},
   "outputs": [],
   "source": [
    "plot_category_trends(females_regionwise_rfu_nonzero_filtered, top_n=8, first_col='2018', last_col='2023 May', mode='least_improved_custom')"
   ]
  },
  {
   "cell_type": "code",
   "execution_count": null,
   "id": "fec35a4a-5953-439b-bb0c-830ff0c4b711",
   "metadata": {},
   "outputs": [],
   "source": [
    "plot_category_trends(females_regionwise_rfu_nonzero_filtered,top_n=8, first_col='2018', last_col='2023 May', mode='percent_growth')"
   ]
  },
  {
   "cell_type": "code",
   "execution_count": null,
   "id": "d78def1c-31ea-4415-ab24-c60196fb4325",
   "metadata": {},
   "outputs": [],
   "source": [
    "plot_category_trends(females_regionwise_rfu_nonzero_filtered, top_n=8, first_col='2018', last_col='2023 May', mode='percent_fall')"
   ]
  },
  {
   "cell_type": "markdown",
   "id": "2f664c2e-cef9-4a24-82cf-1bbeb8e2ff4c",
   "metadata": {
    "jp-MarkdownHeadingCollapsed": true
   },
   "source": [
    "# Age-ALS-Overall"
   ]
  },
  {
   "cell_type": "code",
   "execution_count": null,
   "id": "4b7a662a-e445-4d01-bc43-8c69cc8aff8a",
   "metadata": {},
   "outputs": [],
   "source": [
    "datasets = [df_2017_18, df_2018_19, df_2019_20, df_2020_21, df_2021_22, df_2022_23]\n",
    "years = [\"2017-18\", \"2018-19\", \"2019-20\", \"2020-21\", \"2021-22\", \"2022-23\"]"
   ]
  },
  {
   "cell_type": "code",
   "execution_count": null,
   "id": "be690b24-f3bd-4bb6-927a-0bb5179710e5",
   "metadata": {
    "scrolled": true
   },
   "outputs": [],
   "source": [
    "agew_over=group_by_columns(datasets, years, groupby_cols=['Age'], count_col=sport_column)"
   ]
  },
  {
   "cell_type": "code",
   "execution_count": null,
   "id": "2bc0f4f0-25ea-406e-8e31-adb671d2a01c",
   "metadata": {},
   "outputs": [],
   "source": [
    "plot_category_trends(agew_over)"
   ]
  },
  {
   "cell_type": "code",
   "execution_count": null,
   "id": "cda62b59-6691-4923-9581-d20304a2833d",
   "metadata": {},
   "outputs": [],
   "source": [
    "agew_over=group_by_columns(male_datasets, years, groupby_cols=['Age'], count_col=sport_column)"
   ]
  },
  {
   "cell_type": "code",
   "execution_count": null,
   "id": "992b4420-2d14-4035-8f69-8bad5494a1cb",
   "metadata": {},
   "outputs": [],
   "source": [
    "plot_category_trends(agew_over)"
   ]
  },
  {
   "cell_type": "code",
   "execution_count": null,
   "id": "f310eabc-173b-4acf-9f7f-82ea3af6b97c",
   "metadata": {},
   "outputs": [],
   "source": [
    "agew_over=group_by_columns(female_datasets, years, groupby_cols=['Age'], count_col=sport_column)"
   ]
  },
  {
   "cell_type": "code",
   "execution_count": null,
   "id": "730e9dca-1043-4adf-b8b0-895370e418c1",
   "metadata": {},
   "outputs": [],
   "source": [
    "plot_category_trends(agew_over)"
   ]
  },
  {
   "cell_type": "markdown",
   "id": "f8b8e9b9-1a53-46b9-8d8c-2e134cbc31ee",
   "metadata": {},
   "source": [
    "# Age-RFU-Overall"
   ]
  },
  {
   "cell_type": "code",
   "execution_count": null,
   "id": "f4cb0ebf-b411-4afa-8b7e-b2224ee05245",
   "metadata": {},
   "outputs": [],
   "source": [
    "age_columns_rfu = ['U7M', 'U7F', 'U8M', 'U8F', 'U9M', 'U9F', 'U10M', 'U10F',\n",
    "                   'U11M', 'U11F', 'U12M', 'U12F', 'U13M', 'U13F', 'U14M', 'U14F',\n",
    "                   'U15M', 'U15F', 'U16M', 'U16F', 'U17M','U17F']"
   ]
  },
  {
   "cell_type": "code",
   "execution_count": null,
   "id": "f6729c88-f2a4-4035-8538-0f8320159566",
   "metadata": {},
   "outputs": [],
   "source": [
    "import matplotlib.pyplot as plt\n",
    "import pandas as pd\n",
    "\n",
    "def plot_top5_total_age_groups(dfs, years, age_columns):\n",
    "    total_trend = {}\n",
    "\n",
    "    for df, year in zip(dfs, years):\n",
    "        yearly_totals = {}\n",
    "        for col in age_columns:\n",
    "            base_age = col[:-1]  # strip 'M' or 'F'\n",
    "            male_col = base_age + 'M'\n",
    "            female_col = base_age + 'F'\n",
    "\n",
    "            if male_col in df.columns and female_col in df.columns:\n",
    "                total = df[[male_col, female_col]].sum().sum()\n",
    "                yearly_totals[base_age] = total\n",
    "\n",
    "        total_trend[year] = yearly_totals\n",
    "\n",
    "    total_df = pd.DataFrame(total_trend).T\n",
    "\n",
    "    # Get top 5 by average participation\n",
    "    top5_ages = total_df.mean().sort_values(ascending=False).head(5).index.tolist()\n",
    "\n",
    "    # Plot\n",
    "    plt.figure(figsize=(10, 6))\n",
    "    for age in top5_ages:\n",
    "        plt.plot(total_df.index, total_df[age], marker='o', label=age)\n",
    "\n",
    "    plt.title(\"Top 5 Age Groups by Total Participation (M + F)\")\n",
    "    plt.xlabel(\"Year\")\n",
    "    plt.ylabel(\"Participants\")\n",
    "    plt.legend(title=\"Age Group\", bbox_to_anchor=(1.05, 1), loc='upper left')\n",
    "    plt.grid(True)\n",
    "    plt.tight_layout()\n",
    "    plt.show()\n",
    "\n",
    "    return total_df[top5_ages]\n"
   ]
  },
  {
   "cell_type": "code",
   "execution_count": null,
   "id": "6053a7e2-3a9a-4d1d-93ab-e6a38a63d9cb",
   "metadata": {},
   "outputs": [],
   "source": [
    "plot_top5_total_age_groups(dfs, years, age_columns=age_columns_rfu)"
   ]
  },
  {
   "cell_type": "code",
   "execution_count": null,
   "id": "7a5845e1-ef7b-46a4-b183-d6f274b235e2",
   "metadata": {},
   "outputs": [],
   "source": [
    "def analyze_top5_overall_age_groups(dfs, years, age_columns):\n",
    "    overall_trend = {}\n",
    "\n",
    "    for df, year in zip(dfs, years):\n",
    "        overall_totals = df[age_columns].sum(axis=0)\n",
    "        overall_trend[year] = overall_totals\n",
    "\n",
    "    overall_df = pd.DataFrame(overall_trend).T\n",
    "    top_5_overall = overall_df.mean().sort_values(ascending=False).head(5).index.tolist()\n",
    "\n",
    "    plt.figure(figsize=(10, 6))\n",
    "    for col in top_5_overall:\n",
    "        plt.plot(overall_df.index, overall_df[col], marker='o', label=col)\n",
    "    plt.title(\"Top 5 Overall Age Groups by Participation (Year-on-Year)\")\n",
    "    plt.xlabel(\"Year\")\n",
    "    plt.ylabel(\"Participants\")\n",
    "    plt.legend(title=\"Age Group\")\n",
    "    plt.grid(True)\n",
    "    plt.tight_layout()\n",
    "    plt.show()\n",
    "\n",
    "    return overall_df\n",
    "\n",
    "def analyze_top5_male_age_groups(dfs, years, age_columns):\n",
    "    male_cols = [col for col in age_columns if col.endswith('M')]\n",
    "    male_trend = {}\n",
    "\n",
    "    for df, year in zip(dfs, years):\n",
    "        male_totals = df[male_cols].sum(axis=0)\n",
    "        male_trend[year] = male_totals\n",
    "\n",
    "    male_df = pd.DataFrame(male_trend).T\n",
    "    top_5_males = male_df.mean().sort_values(ascending=False).head(5).index.tolist()\n",
    "\n",
    "    plt.figure(figsize=(10, 6))\n",
    "    for col in top_5_males:\n",
    "        plt.plot(male_df.index, male_df[col], marker='o', label=col)\n",
    "    plt.title(\"Top 5 Male Age Groups by Participation (Year-on-Year)\")\n",
    "    plt.xlabel(\"Year\")\n",
    "    plt.ylabel(\"Participants\")\n",
    "    plt.legend(title=\"Age Group\")\n",
    "    plt.grid(True)\n",
    "    plt.tight_layout()\n",
    "    plt.show()\n",
    "\n",
    "    return male_df\n",
    "    \n",
    "def analyze_top5_female_age_groups(dfs, years, age_columns):\n",
    "    female_cols = [col for col in age_columns if col.endswith('F')]\n",
    "    female_trend = {}\n",
    "\n",
    "    for df, year in zip(dfs, years):\n",
    "        female_totals = df[female_cols].sum(axis=0)\n",
    "        female_trend[year] = female_totals\n",
    "\n",
    "    female_df = pd.DataFrame(female_trend).T\n",
    "    top_5_females = female_df.mean().sort_values(ascending=False).head(5).index.tolist()\n",
    "\n",
    "    plt.figure(figsize=(10, 6))\n",
    "    for col in top_5_females:\n",
    "        plt.plot(female_df.index, female_df[col], marker='o', label=col)\n",
    "    plt.title(\"Top 5 Female Age Groups by Participation (Year-on-Year)\")\n",
    "    plt.xlabel(\"Year\")\n",
    "    plt.ylabel(\"Participants\")\n",
    "    plt.legend(title=\"Age Group\")\n",
    "    plt.grid(True)\n",
    "    plt.tight_layout()\n",
    "    plt.show()\n",
    "\n",
    "    return female_df\n"
   ]
  },
  {
   "cell_type": "code",
   "execution_count": null,
   "id": "0378dc8b-71dd-4a43-ae16-d950940e7032",
   "metadata": {},
   "outputs": [],
   "source": [
    "analyze_top5_overall_age_groups(dfs, years, age_columns_rfu)"
   ]
  },
  {
   "cell_type": "code",
   "execution_count": null,
   "id": "2c3c07ef-8c25-4eb4-8e97-eee3e044e9f8",
   "metadata": {},
   "outputs": [],
   "source": [
    "analyze_top5_male_age_groups(dfs, years, age_columns_rfu)"
   ]
  },
  {
   "cell_type": "code",
   "execution_count": null,
   "id": "cb9fb7de-0120-4c38-94dc-5c87779fd260",
   "metadata": {},
   "outputs": [],
   "source": [
    "analyze_top5_female_age_groups(dfs, years, age_columns_rfu)"
   ]
  },
  {
   "cell_type": "code",
   "execution_count": null,
   "id": "1be60f11-0f43-48c6-b56e-38197dc1d246",
   "metadata": {},
   "outputs": [],
   "source": []
  }
 ],
 "metadata": {
  "kernelspec": {
   "display_name": "Python [conda env:base] *",
   "language": "python",
   "name": "conda-base-py"
  },
  "language_info": {
   "codemirror_mode": {
    "name": "ipython",
    "version": 3
   },
   "file_extension": ".py",
   "mimetype": "text/x-python",
   "name": "python",
   "nbconvert_exporter": "python",
   "pygments_lexer": "ipython3",
   "version": "3.12.7"
  },
  "toc": {
   "base_numbering": -1
  }
 },
 "nbformat": 4,
 "nbformat_minor": 5
}
